{
 "cells": [
  {
   "cell_type": "markdown",
   "metadata": {},
   "source": [
    "# Stack Overflow - Question Modeling for Quality-of-Life\n",
    "**Authors:** Will Dougherty\n",
    "***"
   ]
  },
  {
   "cell_type": "markdown",
   "metadata": {},
   "source": [
    "## Overview\n",
    "\n",
    "With millions of questions and answers, Stack Overflow is a uniquely positioned resource for the coding community. Though often criticized and complained about, it's an invaluable tool to find answers and discussion about very specific coding problems very quickly.]\n",
    "\n",
    "In this project, I used Natural Language Processing (NLP) to predict both quality and the tags for Stack Overflow questions, to provide the foundation for implementing features that could be used in the moment of posting - that is, a user could be alerted if their post is likely to be low-quality, and tags could be suggested based on the text of the question. In both cases, the models do a good job of accomplishing their objectives, and the analysis that led to them informs their best usage and implementation.\n",
    "\n",
    "### Business Problem\n",
    "\n",
    "Stack Overflow also occupies a unique position in that it is in the form of a Q&A platform, but is often used as a wiki, or general knowledge base. With aggressive post moderation (i.e. removal of duplicate/already-answered questions) and an upvote system, the focus of the site is on both quality, and ease of search.\n",
    "\n",
    "Thus the two main components of this project are:\n",
    "- Question quality\n",
    "- Tagging\n",
    "\n",
    "Anything that can be done in the moment of posting a question, before it's 'out in the wild', will help take the pressure off of the moderation team and all of the behind-the-scenes tools that are used to help weed out bad posts, and to make sure that proper tags are assigned.\n",
    "\n",
    "#### I. Quality\n",
    "\n",
    "This component aims to predict, without an imbalance of false negatives and positives, whether a post is 'high' or 'low' quality - a binary classification. If a user's question is then compared against this model, they can be alerted if it is likely to be low quality, and given a chance to review the post guidelines and re-examine the question before posting it.\n",
    "\n",
    "#### II. Tagging\n",
    "\n",
    "This component aims to predict, and then suggest, a field of most-likely tags for a given question. Currently, the user is presented with an empty entry field; although it auto-completes as you type tag names, it isn't based on the text of the just-written question.\n",
    "\n",
    "Because of the subjective nature of tagging, it would be best to suggest the top 20 or so tags that are most likely to apply to a given question's text. This allows the user to select the ones they feel are most applicable, and even if all of the 'true' tags aren't present, the model is accurate enough that it will likely help the user remember/be reminded of tags that they may not have otherwise thought of."
   ]
  },
  {
   "cell_type": "markdown",
   "metadata": {},
   "source": [
    "***\n",
    "## Question Quality\n",
    "\n",
    "### Data\n",
    "\n",
    "There are several datasets of Stack Overflow post data, and for this component I am using two different datasets:\n",
    "\n",
    "- 60k Stack Overflow Questions with Quality Rating\n",
    "https://www.kaggle.com/datasets/imoore/60k-stack-overflow-questions-with-quality-rate\n",
    "\n",
    "This is used to build the model, as it contains ground-truth quality ratings. It is limited to only posts with the 'python' tag.\n",
    "\n",
    "- Python Questions from Stack Overflow\n",
    "https://www.kaggle.com/datasets/stackoverflow/pythonquestions\n",
    "\n",
    "This is much larger, and is used to see how the smaller dataset's model compares against a larger dataset. This is not used to build the model because there is no concrete 'quality' rating, and only things like 'Score' and 'answer_count' are available.\n",
    "\n",
    "However, as we'll see, the smaller model does seem to have correllation with those aspects of the larger dataset, which suggests further work is warranted.\n",
    "\n",
    "### Methodology and Goals\n",
    "\n",
    "In order to predict quality, the text must be cleaned and vectorized, and class imbalance addressed.\n",
    "\n",
    "For modelling, Logistic Regression is relatively cheap (in system resources and training time) and well-suited to this relatively straightforward modelling problem.\n",
    "\n",
    "With only the binary classification to deal with, a confusion matrix will be the best way to see the results. A balanced pair of True Positive/False Positive accuracy scores will be used to validate the model."
   ]
  },
  {
   "cell_type": "code",
   "execution_count": 1,
   "metadata": {},
   "outputs": [],
   "source": [
    "import pandas as pd\n",
    "import numpy as np\n",
    "import matplotlib.pyplot as plt\n",
    "import seaborn as sns\n",
    "\n",
    "from sklearn.metrics import ConfusionMatrixDisplay\n",
    "\n",
    "from imblearn.over_sampling import RandomOverSampler\n",
    "from sklearn.feature_extraction.text import TfidfVectorizer\n",
    "from sklearn.preprocessing import MultiLabelBinarizer\n",
    "\n",
    "from sklearn.linear_model import LogisticRegression\n",
    "from sklearn.linear_model import SGDClassifier\n",
    "from sklearn.multiclass import OneVsRestClassifier\n",
    "\n",
    "from sklearn.metrics import hamming_loss\n",
    "\n",
    "from time import time\n",
    "\n",
    "# custom data prep module\n",
    "import code.data_preparation as data_prep\n",
    "\n",
    "%matplotlib inline"
   ]
  },
  {
   "cell_type": "code",
   "execution_count": 2,
   "metadata": {},
   "outputs": [],
   "source": [
    "sns.set_style('darkgrid')\n",
    "sns.set_context('notebook')"
   ]
  },
  {
   "cell_type": "code",
   "execution_count": 3,
   "metadata": {},
   "outputs": [],
   "source": [
    "quality_60k = data_prep.quality_60k_full_clean()"
   ]
  },
  {
   "cell_type": "code",
   "execution_count": 4,
   "metadata": {},
   "outputs": [
    {
     "data": {
      "text/html": [
       "<div>\n",
       "<style scoped>\n",
       "    .dataframe tbody tr th:only-of-type {\n",
       "        vertical-align: middle;\n",
       "    }\n",
       "\n",
       "    .dataframe tbody tr th {\n",
       "        vertical-align: top;\n",
       "    }\n",
       "\n",
       "    .dataframe thead th {\n",
       "        text-align: right;\n",
       "    }\n",
       "</style>\n",
       "<table border=\"1\" class=\"dataframe\">\n",
       "  <thead>\n",
       "    <tr style=\"text-align: right;\">\n",
       "      <th></th>\n",
       "      <th>text</th>\n",
       "      <th>target</th>\n",
       "    </tr>\n",
       "  </thead>\n",
       "  <tbody>\n",
       "    <tr>\n",
       "      <th>0</th>\n",
       "      <td>java repeat task random second familiar repeat...</td>\n",
       "      <td>0</td>\n",
       "    </tr>\n",
       "    <tr>\n",
       "      <th>1</th>\n",
       "      <td>java option immut like understand java option ...</td>\n",
       "      <td>1</td>\n",
       "    </tr>\n",
       "    <tr>\n",
       "      <th>2</th>\n",
       "      <td>text overlai imag darken opac react nativ atte...</td>\n",
       "      <td>1</td>\n",
       "    </tr>\n",
       "    <tr>\n",
       "      <th>3</th>\n",
       "      <td>ternari oper swift picki question simpl answer...</td>\n",
       "      <td>1</td>\n",
       "    </tr>\n",
       "    <tr>\n",
       "      <th>4</th>\n",
       "      <td>hide fab scale anim custom floatingactionmenu ...</td>\n",
       "      <td>1</td>\n",
       "    </tr>\n",
       "  </tbody>\n",
       "</table>\n",
       "</div>"
      ],
      "text/plain": [
       "                                                text  target\n",
       "0  java repeat task random second familiar repeat...       0\n",
       "1  java option immut like understand java option ...       1\n",
       "2  text overlai imag darken opac react nativ atte...       1\n",
       "3  ternari oper swift picki question simpl answer...       1\n",
       "4  hide fab scale anim custom floatingactionmenu ...       1"
      ]
     },
     "execution_count": 4,
     "metadata": {},
     "output_type": "execute_result"
    }
   ],
   "source": [
    "quality_60k.head()"
   ]
  },
  {
   "cell_type": "markdown",
   "metadata": {},
   "source": [
    "Based on EDA, I was able to find an optimal (or at least high-performing) method of cleaning the text data:\n",
    "\n",
    "- combine title and body text\n",
    "- remove HTML tags\n",
    "- remove code\n",
    "- remove stopwords\n",
    "- stemming\n",
    "- other misc. cleanup (whitespace, etc)\n",
    "\n",
    "This can be seen in the first few columns above."
   ]
  },
  {
   "cell_type": "markdown",
   "metadata": {},
   "source": [
    "***\n",
    "In order to test the model, I'll split it into train and test portions.\n",
    "\n",
    "I'll simply select the first 80% and the last 20%, since a real-world application would always be using a model built on past posts that are then tested on future posts."
   ]
  },
  {
   "cell_type": "code",
   "execution_count": 5,
   "metadata": {},
   "outputs": [],
   "source": [
    "len_60k = len(quality_60k)\n",
    "split = int(len_60k/5)\n",
    "\n",
    "q_train = quality_60k.iloc[:-split]\n",
    "q_test = quality_60k.iloc[-split:]\n",
    "\n",
    "X_train = q_train['text']\n",
    "X_test = q_train['text']\n",
    "\n",
    "y_train = q_train['target']\n",
    "y_test = q_train['target']"
   ]
  },
  {
   "cell_type": "markdown",
   "metadata": {},
   "source": [
    "In order to model this, vectorization of the text is required."
   ]
  },
  {
   "cell_type": "code",
   "execution_count": 6,
   "metadata": {},
   "outputs": [],
   "source": [
    "def vectorize_text(train, test):\n",
    "    vectorizer = TfidfVectorizer()\n",
    "    train = vectorizer.fit_transform(train)\n",
    "    test = vectorizer.transform(test)\n",
    "    \n",
    "    return train, test"
   ]
  },
  {
   "cell_type": "code",
   "execution_count": 7,
   "metadata": {},
   "outputs": [],
   "source": [
    "X_train, X_test = vectorize_text(X_train, X_test)"
   ]
  },
  {
   "cell_type": "markdown",
   "metadata": {},
   "source": [
    "After using a straightforward Tf-Idf vectorizer, we then also have to deal with class imbalance:"
   ]
  },
  {
   "cell_type": "code",
   "execution_count": 8,
   "metadata": {},
   "outputs": [
    {
     "data": {
      "image/png": "[encoded data removed]",
      "text/plain": [
       "<Figure size 576x432 with 1 Axes>"
      ]
     },
     "metadata": {},
     "output_type": "display_data"
    }
   ],
   "source": [
    "fig, ax = plt.subplots(figsize=(8,6))\n",
    "sns.histplot(quality_60k, x='target', discrete=True)\n",
    "ax.set_xticks([0,1]);"
   ]
  },
  {
   "cell_type": "markdown",
   "metadata": {},
   "source": [
    "Using the RandomOverSampler, we can generate more of the '1' (high-quality) samples, so as to help the model train properly."
   ]
  },
  {
   "cell_type": "code",
   "execution_count": 9,
   "metadata": {},
   "outputs": [],
   "source": [
    "ROS = RandomOverSampler()\n",
    "\n",
    "X_train, y_train = ROS.fit_resample(X_train, y_train)"
   ]
  },
  {
   "cell_type": "markdown",
   "metadata": {},
   "source": [
    "Finally, fitting the LogisticRegression model with tuned hyperparameters allows us to see plot how well it does at predicting the two classes."
   ]
  },
  {
   "cell_type": "code",
   "execution_count": 10,
   "metadata": {},
   "outputs": [],
   "source": [
    "lr = LogisticRegression(penalty='l2', solver='lbfgs', C=1, max_iter=1000)"
   ]
  },
  {
   "cell_type": "code",
   "execution_count": 11,
   "metadata": {},
   "outputs": [
    {
     "data": {
      "image/png": "[encoded data removed]",
      "text/plain": [
       "<Figure size 432x288 with 2 Axes>"
      ]
     },
     "metadata": {},
     "output_type": "display_data"
    }
   ],
   "source": [
    "lr.fit(X_train, y_train)\n",
    "y_pred = lr.predict(X_test)\n",
    "ConfusionMatrixDisplay.from_predictions(y_test, y_pred, normalize='true');"
   ]
  },
  {
   "cell_type": "markdown",
   "metadata": {},
   "source": [
    "#### Evaluation\n",
    "\n",
    "So we see a strong result here. With 89% of the 'low quality' label, and 90% of the 'high quality' label correctly predicted, we don't have a skew either way that would disproportionately affect either target class. False positives would allow low-quality posts to slip through, and false negatives would annoy users who are writing a high-quality question.\n",
    "\n",
    "##### Vs. Baseline model\n",
    "\n",
    "A baseline model would simply predict '0' for every class, and thus achieve an accuracy of 67% since 2/3 of the samples are in the '0' class. Thus, the model does a good job of not only improving on accuracy, but actually distinguishing the two classes, and balancing it almost perfectly."
   ]
  },
  {
   "cell_type": "markdown",
   "metadata": {},
   "source": [
    "***\n",
    "\n",
    "To add on to this, because of the lackluster results of directly modelling the larger Python Q&A dataset, I'll take a look at how well this smaller model can do in labelling the larger dataset's samples, and how that lines up with the 'Score' and 'answer_count' features, since those are the closest proxy for 'quality' in that dataset.\n",
    "\n",
    "I will use the entire 60k dataset as the training data, and test it on 100,000 samples of the larger Python dataset."
   ]
  },
  {
   "cell_type": "code",
   "execution_count": 12,
   "metadata": {},
   "outputs": [],
   "source": [
    "python_qa = data_prep.quality_python_full_clean()\n",
    "\n",
    "X_train, X_test = vectorize_text(quality_60k['text'], python_qa['text'])\n",
    "\n",
    "y_train = quality_60k['target']\n",
    "\n",
    "X_train, y_train = ROS.fit_resample(X_train, y_train)\n",
    "\n",
    "lr = LogisticRegression(penalty='l2', solver='lbfgs', C=1, max_iter=1000)\n",
    "\n",
    "lr.fit(X_train, y_train)\n",
    "y_pred = lr.predict(X_test)\n",
    "\n",
    "python_qa['target'] = y_pred"
   ]
  },
  {
   "cell_type": "code",
   "execution_count": 13,
   "metadata": {},
   "outputs": [
    {
     "data": {
      "image/png": "[encoded data removed]",
      "text/plain": [
       "<Figure size 1080x576 with 1 Axes>"
      ]
     },
     "metadata": {},
     "output_type": "display_data"
    }
   ],
   "source": [
    "fig, ax = plt.subplots(figsize=(15,8))\n",
    "sns.scatterplot(data=python_qa[(python_qa['answer_count']<10) & (python_qa['Score']<50)],\\\n",
    "                y='answer_count', x='Score', hue='target', alpha=.2, palette=['r','g'])\n",
    "ax.set_title('Quality Prediction of Large Python Dataset vs. Score and Answer Count');"
   ]
  },
  {
   "cell_type": "markdown",
   "metadata": {},
   "source": [
    "There is a clear correlation between Score and the predicted quality target.\n",
    "\n",
    "The nature of the datasets is likely somewhat different, since the 60k dataset probably has posts that were removed because of low quality, and the Python Q&A dataset likely only has posts that are still up.\n",
    "\n",
    "However, this is encouraging to see such a clear gradient from left to right, which suggests that with more data on post quality from Stack Overflow, a very high-performing model could be built to predict quality and alert users."
   ]
  },
  {
   "cell_type": "markdown",
   "metadata": {},
   "source": [
    "***\n",
    "***\n",
    "## Tag Prediction and Suggestion\n",
    "\n",
    "### Data\n",
    "\n",
    "For this component, I will use this large dataset:\n",
    "\n",
    "- StackSample: 10% of Stack Overflow Q&A\n",
    "https://www.kaggle.com/datasets/stackoverflow/stacksample?datasetId=265&sortBy=commentCount&select=Questions.csv\n",
    "\n",
    "It is structured identically to the Python Q&A dataset, but includes posts with all tags. Limiting it to the 'Python' tagged posts creates issues with how it's modelled and validated.\n",
    "\n",
    "### Methodology and Goals\n",
    "\n",
    "The goal is a model that can provide suggested tags to a user, before they post their question. Users are given an entry field to enter tags, but it only auto-completes when you start typing. This can enable better and faster tagging for users, and facilitate better searching and generation of 'related post'-type features on the site.\n",
    "\n",
    "The model itself is predicting tags for each post, but to generate a top-20 list of suggested tags, the model needs to provide probabilities the for all tags for that post.\n",
    "\n",
    "So ultimately, to achieve this, a Multi-Label Classification model is needed. This is in fact a collection of models, one for each label class (tag), that generates probabilites for each tag for each post. It becomes easy to imagine that this can quickly get out of hand, both in memory usage and training time.\n",
    "\n",
    "***\n",
    "\n",
    "To that end, a balance has to be struck regarding number of samples and number of tags to include in the model; below, we'll see the quarterly post counts to give a sense for how many posts are created over time."
   ]
  },
  {
   "cell_type": "code",
   "execution_count": 14,
   "metadata": {},
   "outputs": [],
   "source": [
    "def plot_quarterly_posts():\n",
    "    df = pd.read_csv('./data/QA_all/Questions.csv', encoding='latin1')\n",
    "    df['time'] = pd.to_datetime(df['CreationDate'], infer_datetime_format=True)\n",
    "    df['quarter'] = [x.quarter for x in df['time']]\n",
    "    df['year'] = [x.year for x in df['time']]\n",
    "    df['quarter'] = df['year'].apply(str).apply(lambda x: x[-2:]) + '-' + df['quarter'].apply(str)\n",
    "    \n",
    "    fig, ax = plt.subplots(figsize=(16,8))\n",
    "    sns.histplot(df['quarter'], discrete=True)\n",
    "    plt.show()\n",
    "    del df"
   ]
  },
  {
   "cell_type": "code",
   "execution_count": 15,
   "metadata": {},
   "outputs": [
    {
     "data": {
      "image/png": "[encoded data removed]",
      "text/plain": [
       "<Figure size 1152x576 with 1 Axes>"
      ]
     },
     "metadata": {},
     "output_type": "display_data"
    }
   ],
   "source": [
    "plot_quarterly_posts()"
   ]
  },
  {
   "cell_type": "markdown",
   "metadata": {},
   "source": [
    "## Data Preparation\n",
    "\n",
    "Because of its similarity to the Python dataset, the same preparation steps will be undertaken for this dataset.\n",
    "\n",
    "The only difference is in including the tags, which are simply joined into a list for each post."
   ]
  },
  {
   "cell_type": "code",
   "execution_count": 16,
   "metadata": {},
   "outputs": [],
   "source": [
    "# This may take a few minutes!\n",
    "\n",
    "qa_all = data_prep.tags_full_clean()"
   ]
  },
  {
   "cell_type": "code",
   "execution_count": 17,
   "metadata": {},
   "outputs": [
    {
     "data": {
      "text/html": [
       "<div>\n",
       "<style scoped>\n",
       "    .dataframe tbody tr th:only-of-type {\n",
       "        vertical-align: middle;\n",
       "    }\n",
       "\n",
       "    .dataframe tbody tr th {\n",
       "        vertical-align: top;\n",
       "    }\n",
       "\n",
       "    .dataframe thead th {\n",
       "        text-align: right;\n",
       "    }\n",
       "</style>\n",
       "<table border=\"1\" class=\"dataframe\">\n",
       "  <thead>\n",
       "    <tr style=\"text-align: right;\">\n",
       "      <th></th>\n",
       "      <th>Id</th>\n",
       "      <th>text</th>\n",
       "      <th>tags</th>\n",
       "    </tr>\n",
       "  </thead>\n",
       "  <tbody>\n",
       "    <tr>\n",
       "      <th>1064216</th>\n",
       "      <td>34855670</td>\n",
       "      <td>displai null valu cgridview null valu foreignk...</td>\n",
       "      <td>[php, yii]</td>\n",
       "    </tr>\n",
       "    <tr>\n",
       "      <th>1064217</th>\n",
       "      <td>34855700</td>\n",
       "      <td>input type text icon miss html input box input...</td>\n",
       "      <td>[html, twitter-bootstrap, icons]</td>\n",
       "    </tr>\n",
       "    <tr>\n",
       "      <th>1064218</th>\n",
       "      <td>34855780</td>\n",
       "      <td>send post request dataoutputstream work read j...</td>\n",
       "      <td>[java, post, https]</td>\n",
       "    </tr>\n",
       "    <tr>\n",
       "      <th>1064219</th>\n",
       "      <td>34855790</td>\n",
       "      <td>variabl javascript function run javascript val...</td>\n",
       "      <td>[javascript]</td>\n",
       "    </tr>\n",
       "    <tr>\n",
       "      <th>1064220</th>\n",
       "      <td>34855800</td>\n",
       "      <td>crystal report page setup dot matrix printer r...</td>\n",
       "      <td>[crystal-reports]</td>\n",
       "    </tr>\n",
       "  </tbody>\n",
       "</table>\n",
       "</div>"
      ],
      "text/plain": [
       "               Id                                               text  \\\n",
       "1064216  34855670  displai null valu cgridview null valu foreignk...   \n",
       "1064217  34855700  input type text icon miss html input box input...   \n",
       "1064218  34855780  send post request dataoutputstream work read j...   \n",
       "1064219  34855790  variabl javascript function run javascript val...   \n",
       "1064220  34855800  crystal report page setup dot matrix printer r...   \n",
       "\n",
       "                                     tags  \n",
       "1064216                        [php, yii]  \n",
       "1064217  [html, twitter-bootstrap, icons]  \n",
       "1064218               [java, post, https]  \n",
       "1064219                      [javascript]  \n",
       "1064220                 [crystal-reports]  "
      ]
     },
     "execution_count": 17,
     "metadata": {},
     "output_type": "execute_result"
    }
   ],
   "source": [
    "qa_all.head()"
   ]
  },
  {
   "cell_type": "markdown",
   "metadata": {},
   "source": [
    "## Data Modeling\n",
    "\n",
    "As said before, a balance has to be found regarding the number of samples to build the model with, and how many tags to use - the latter will determine how many individual classifiers will need to be trained.\n",
    "\n",
    "***\n",
    "### Number of Samples\n",
    "\n",
    "The dataset has 1,264,216 posts, with many more answers, and tags for each post.\n",
    "\n",
    "Since it would be prohibitive to build a model with every sample unless it was obviously much more accurate, I investigated whether the tag usage changes drastically over time, which would suggest that smaller models built using a subset of the data that is more similar to the data to be predicted would yield better results."
   ]
  },
  {
   "cell_type": "markdown",
   "metadata": {},
   "source": [
    "![graph1](./images/usage_1.png)"
   ]
  },
  {
   "cell_type": "markdown",
   "metadata": {},
   "source": [
    "![graph2](./images/usage_2.png)"
   ]
  },
  {
   "cell_type": "markdown",
   "metadata": {},
   "source": [
    "Among the top-256 tags, these show that the fastest-growing and -shrinking tags are definitely fluctuating drastically in proportion to the field of tags in the entire dataset."
   ]
  },
  {
   "cell_type": "markdown",
   "metadata": {},
   "source": [
    "Let's also look at how much the ranking of top tags changes over time.\n",
    "\n",
    "RBO (Rank Biased Overlap) is a measure of similarity between two ranked lists, and is appropriate here because of the nature of the top-tags rankings over time. This measure accounts for position as well as whether tags exist in both lists. Below, we'll see the measure of each quarter's RBO when its top rankings are compared with the previous quarter's.\n",
    "\n",
    "RBO is interpreted as a measure of similarity, with 1.0 being exactly the same, and 0.0 as completely different lists.\n",
    "\n",
    "RBO resources:\n",
    "\n",
    "https://github.com/ragrawal/measures/blob/master/measures/rankedlist/RBO.py\n",
    "\n",
    "https://ragrawal.wordpress.com/2013/01/18/comparing-ranked-list/\n",
    "\n",
    "http://codalism.com/research/papers/wmz10_tois.pdf"
   ]
  },
  {
   "cell_type": "markdown",
   "metadata": {},
   "source": [
    "![graph3](./images/RBO.png)"
   ]
  },
  {
   "cell_type": "markdown",
   "metadata": {},
   "source": [
    "As we can see, the amount of RBO similarity stabilizes around .55 - .65, so there is (colloquially) a quarter-to-quarter churn of about 35-45% in terms of the top-tag rankings.\n",
    "\n",
    "***\n",
    "\n",
    "Thus, it would make sense to only use data that is relatively recent to the data that you want to predict tags for.\n",
    "\n",
    "In the EDA and prep/modeling notebooks, more exhaustive exploration of this is undertaken. Ultimately, a subset of 200,000 samples seems to make the most sense here, as that accounts for roughly the last year or so of data, and is a nice balance between being hyper-focused on a period of time, and building a large, robust model."
   ]
  },
  {
   "cell_type": "markdown",
   "metadata": {},
   "source": [
    "***\n",
    "\n",
    "### Number of Tags\n",
    "\n",
    "The tags of the dataset are unevenly distributed among the posts. A small number account for the vast majority of used tags, and a very large number of tags are used very rarely, or even just once.\n",
    "\n",
    "Below is a representation of how many posts have at least one of the top-n tags:"
   ]
  },
  {
   "cell_type": "code",
   "execution_count": 18,
   "metadata": {},
   "outputs": [],
   "source": [
    "tags = pd.read_csv('./data/QA_all/Tags.csv', encoding='latin1')"
   ]
  },
  {
   "cell_type": "code",
   "execution_count": 19,
   "metadata": {},
   "outputs": [],
   "source": [
    "def tag_pcts_plot(tags):\n",
    "    tag_per_id = tags.groupby('Id').size()\n",
    "    id_per_tag = tags.groupby('Tag').size()\n",
    "\n",
    "    tagid_df = pd.DataFrame()\n",
    "    tagid_df['Id'] = tag_per_id.index.values\n",
    "    tagid_df['tag_count'] = tag_per_id.values\n",
    "\n",
    "    idtag_df = pd.DataFrame()\n",
    "    idtag_df['tag'] = id_per_tag.index.values\n",
    "    idtag_df['id_count'] = id_per_tag.values\n",
    "\n",
    "    idtag_df['pct'] = idtag_df['id_count'] / len(tagid_df)\n",
    "    idtag_df = idtag_df.sort_values(by='pct', ascending=True).reset_index().drop('index', axis=1)\n",
    "\n",
    "    top_tag_counts = [str(2**x) for x in range(0,14)]+[str(len(idtag_df))]\n",
    "    top_tag_pcts = []\n",
    "    for count in top_tag_counts:\n",
    "        top_tags = list(idtag_df.iloc[-(int(count)+1):-1]['tag'])\n",
    "        top_tag_pcts.append(len(tags[tags['Tag'].isin(top_tags)].groupby('Id').size())/len(tagid_df))\n",
    "\n",
    "    fig, ax = plt.subplots(figsize=(12,8))\n",
    "\n",
    "    sns.lineplot(x=top_tag_counts, y=top_tag_pcts, marker='o')\n",
    "\n",
    "    ax.set_yticks([x/10 for x in range(1,11)])\n",
    "    ax.set_xticks(top_tag_counts)\n",
    "\n",
    "    ax.set_title(\"Percentage of Posts with Top No. of Tags\")\n",
    "    ax.set_xlabel('No. of Top Tags Used')\n",
    "    ax.set_ylabel('Percentage')\n",
    "    plt.show()\n",
    "    return zip(top_tag_counts, top_tag_pcts);"
   ]
  },
  {
   "cell_type": "code",
   "execution_count": 20,
   "metadata": {},
   "outputs": [
    {
     "data": {
      "image/png": "[encoded data removed]",
      "text/plain": [
       "<Figure size 864x576 with 1 Axes>"
      ]
     },
     "metadata": {},
     "output_type": "display_data"
    }
   ],
   "source": [
    "top_tag_pcts = tag_pcts_plot(tags)"
   ]
  },
  {
   "cell_type": "code",
   "execution_count": 21,
   "metadata": {},
   "outputs": [],
   "source": [
    "top_tags_df = pd.DataFrame(top_tag_pcts, columns=['n_tags','pct'])"
   ]
  },
  {
   "cell_type": "code",
   "execution_count": 22,
   "metadata": {},
   "outputs": [
    {
     "data": {
      "text/html": [
       "<div>\n",
       "<style scoped>\n",
       "    .dataframe tbody tr th:only-of-type {\n",
       "        vertical-align: middle;\n",
       "    }\n",
       "\n",
       "    .dataframe tbody tr th {\n",
       "        vertical-align: top;\n",
       "    }\n",
       "\n",
       "    .dataframe thead th {\n",
       "        text-align: right;\n",
       "    }\n",
       "</style>\n",
       "<table border=\"1\" class=\"dataframe\">\n",
       "  <thead>\n",
       "    <tr style=\"text-align: right;\">\n",
       "      <th></th>\n",
       "      <th>n_tags</th>\n",
       "      <th>pct</th>\n",
       "    </tr>\n",
       "  </thead>\n",
       "  <tbody>\n",
       "    <tr>\n",
       "      <th>0</th>\n",
       "      <td>1</td>\n",
       "      <td>0.091133</td>\n",
       "    </tr>\n",
       "    <tr>\n",
       "      <th>1</th>\n",
       "      <td>2</td>\n",
       "      <td>0.170669</td>\n",
       "    </tr>\n",
       "    <tr>\n",
       "      <th>2</th>\n",
       "      <td>4</td>\n",
       "      <td>0.306067</td>\n",
       "    </tr>\n",
       "    <tr>\n",
       "      <th>3</th>\n",
       "      <td>8</td>\n",
       "      <td>0.473686</td>\n",
       "    </tr>\n",
       "    <tr>\n",
       "      <th>4</th>\n",
       "      <td>16</td>\n",
       "      <td>0.597831</td>\n",
       "    </tr>\n",
       "    <tr>\n",
       "      <th>5</th>\n",
       "      <td>32</td>\n",
       "      <td>0.703257</td>\n",
       "    </tr>\n",
       "    <tr>\n",
       "      <th>6</th>\n",
       "      <td>64</td>\n",
       "      <td>0.775138</td>\n",
       "    </tr>\n",
       "    <tr>\n",
       "      <th>7</th>\n",
       "      <td>128</td>\n",
       "      <td>0.831818</td>\n",
       "    </tr>\n",
       "    <tr>\n",
       "      <th>8</th>\n",
       "      <td>256</td>\n",
       "      <td>0.886230</td>\n",
       "    </tr>\n",
       "    <tr>\n",
       "      <th>9</th>\n",
       "      <td>512</td>\n",
       "      <td>0.925583</td>\n",
       "    </tr>\n",
       "    <tr>\n",
       "      <th>10</th>\n",
       "      <td>1024</td>\n",
       "      <td>0.952889</td>\n",
       "    </tr>\n",
       "    <tr>\n",
       "      <th>11</th>\n",
       "      <td>2048</td>\n",
       "      <td>0.971839</td>\n",
       "    </tr>\n",
       "    <tr>\n",
       "      <th>12</th>\n",
       "      <td>4096</td>\n",
       "      <td>0.983293</td>\n",
       "    </tr>\n",
       "    <tr>\n",
       "      <th>13</th>\n",
       "      <td>8192</td>\n",
       "      <td>0.989885</td>\n",
       "    </tr>\n",
       "    <tr>\n",
       "      <th>14</th>\n",
       "      <td>37034</td>\n",
       "      <td>0.994919</td>\n",
       "    </tr>\n",
       "  </tbody>\n",
       "</table>\n",
       "</div>"
      ],
      "text/plain": [
       "   n_tags       pct\n",
       "0       1  0.091133\n",
       "1       2  0.170669\n",
       "2       4  0.306067\n",
       "3       8  0.473686\n",
       "4      16  0.597831\n",
       "5      32  0.703257\n",
       "6      64  0.775138\n",
       "7     128  0.831818\n",
       "8     256  0.886230\n",
       "9     512  0.925583\n",
       "10   1024  0.952889\n",
       "11   2048  0.971839\n",
       "12   4096  0.983293\n",
       "13   8192  0.989885\n",
       "14  37034  0.994919"
      ]
     },
     "execution_count": 22,
     "metadata": {},
     "output_type": "execute_result"
    }
   ],
   "source": [
    "top_tags_df"
   ]
  },
  {
   "cell_type": "markdown",
   "metadata": {},
   "source": [
    "Thus, I decided to settle on 2,000 top tags, which accounts for around 97% of posts having at least one of the tags. This allowed for a model that could be built and trained with a feasible amount of memory and training time, and achieved good results."
   ]
  },
  {
   "cell_type": "markdown",
   "metadata": {},
   "source": [
    "### Model selection\n",
    "\n",
    "There are several options available for multi-label classification, but the most often-used are:\n",
    "\n",
    "- One-vs-Rest\n",
    "    - A collection of individual models for each tag (in this case, a SGD-Logistic Regression model)\n",
    "- Classifier Chain\n",
    "    - Similar to a decision tree, it filters posts through various classifiers to arrive at a collection of predicted tags\n",
    "\n",
    "After experimenting with these options, the One-vs-Rest classifier made the most sense to use in this project. Using SGD-Logistic Regression allows for the individual models to train relatively quickly, and model has the ability to predict probabilities for each tag for each post, allowing for a ranked list to be created that can populate a predicted top-20 ranking for each post.\n",
    "\n",
    "### Metrics\n",
    "\n",
    "Since measures like accuracy, f1, etc become cumbersome when dealing with a vast number of target classes, there are two main metrics I used to determine the performance of the model.\n",
    "\n",
    "#### Hamming loss\n",
    "    - A calculation of similarity between two lists. This ranges from 0-1 (0 being best), and in this case, the values tend to be very small due to the large number of possible tags.\n",
    "#### Top-20 Prediction metrics\n",
    "    - This is my own method of determining how well the model does across all of the predictions. For each post, using the predicted probabilities, I can then calculate the following based on whether each post's actual set of tags are in the predicted list. The goal is to have all of the 'true' tags in the suggested tag list.\n",
    "    - The two main measures are:\n",
    "        - % of tags that exist in their post's predicted top-20\n",
    "        - Average score of posts' tag set that are in the predicted top-20"
   ]
  },
  {
   "cell_type": "code",
   "execution_count": 23,
   "metadata": {},
   "outputs": [],
   "source": [
    "def top20_score(y_pred, mlb, y_test, all_tags):\n",
    "    \n",
    "    zipped_preds = [list(zip(list(mlb.classes_), list(x))) for x in y_pred]\n",
    "    zip_sorted = [sorted(zipped_preds[i], key=lambda x: x[1], reverse=True) for i in range(len(zipped_preds))]\n",
    "    \n",
    "    all_labels = list(mlb.classes_)\n",
    "    \n",
    "    model_tag_scores = []\n",
    "    tag_scores = []\n",
    "    \n",
    "    each_tag_scores = {}\n",
    "    for tag in all_tags:\n",
    "        each_tag_scores[tag] = []\n",
    "        \n",
    "    post_scores = []\n",
    "    for i, x in enumerate(y_test):\n",
    "        post_score = 0\n",
    "        labels, probs = zip(*zip_sorted[i])\n",
    "        for y in x:\n",
    "            if y in labels[:20]:\n",
    "                tag_scores.append(1)\n",
    "                model_tag_scores.append(1)\n",
    "                each_tag_scores[y].append(1)\n",
    "                post_score += 1\n",
    "            else:\n",
    "                tag_scores.append(0)\n",
    "                if y in all_tags:\n",
    "                    each_tag_scores[y].append(0)\n",
    "                if y in labels and y in all_labels:\n",
    "                    model_tag_scores.append(0)\n",
    "        post_scores.append(post_score/len(x))\n",
    "            \n",
    "    ones = 0\n",
    "    for x in post_scores:\n",
    "        if x == 1:\n",
    "            ones += 1\n",
    "    \n",
    "    return np.mean(post_scores), np.mean(tag_scores), np.mean(model_tag_scores),\\\n",
    "            ones/len(y_test), post_scores, each_tag_scores"
   ]
  },
  {
   "cell_type": "code",
   "execution_count": 24,
   "metadata": {},
   "outputs": [],
   "source": [
    "def top20_model():\n",
    "    grid_scores = {'samples':[], 'n_top':[], 'avg_post_score':[], 'pct_tags_top_n':[],\\\n",
    "                   'pct_model_tags_top_n':[], 'pct_perfect':[], 'hamming_loss':[]}\n",
    "\n",
    "\n",
    "    print(f\"Prepping {200000} samples for modelling\")\n",
    "    \n",
    "    this_t = tags[tags['Id'].isin(qa_all['Id'].unique())]\n",
    "    \n",
    "    q_train = qa_all[:-40000]\n",
    "    q_test = qa_all[-40000:]\n",
    "    t_train = this_t[this_t['Id'].isin(q_train['Id'].unique())]\n",
    "    t_test = this_t[this_t['Id'].isin(q_test['Id'].unique())]\n",
    "\n",
    "    print(f'# of posts in train set: {len(q_train)}')\n",
    "    print(f'# of posts in test set: {len(q_test)}')\n",
    "\n",
    "    tag_per_id = t_train.groupby('Id').size()\n",
    "    id_per_tag = t_train.groupby('Tag').size()\n",
    "\n",
    "    tagid_df = pd.DataFrame()\n",
    "    tagid_df['Id'] = tag_per_id.index.values\n",
    "    tagid_df['tag_count'] = tag_per_id.values\n",
    "\n",
    "    idtag_df = pd.DataFrame()\n",
    "    idtag_df['tag'] = id_per_tag.index.values\n",
    "    idtag_df['id_count'] = id_per_tag.values\n",
    "\n",
    "    idtag_df['pct'] = idtag_df['id_count'] / len(tagid_df)\n",
    "    idtag_df = idtag_df.sort_values(by='pct', ascending=True).reset_index().drop('index', axis=1)\n",
    "    print('='*70)\n",
    "    top = 2000\n",
    "    print('='*70)\n",
    "    print(f\"Selecting top {top} tags...\")\n",
    "    top_tags = idtag_df.iloc[-top:].tag.values\n",
    "\n",
    "    top_tag_ids = t_train[t_train['Tag'].isin(top_tags)]\n",
    "    q_train = q_train[q_train['Id'].isin(top_tag_ids['Id'].unique())]\n",
    "    print(f'# of posts in trimmed train set: {len(q_train)}')\n",
    "\n",
    "    raw_ytrain = []\n",
    "    for index, row in q_train[['tags']].iterrows():\n",
    "        raw_ytrain.append(set([x for x in row['tags'] if x in top_tags]))\n",
    "\n",
    "    raw_ytest = []\n",
    "    for index, row in q_test[['tags']].iterrows():\n",
    "        raw_ytest.append(set([x for x in row['tags'] if x in top_tags]))\n",
    "\n",
    "    raw_ytest2 = []\n",
    "    for index, row in q_test[['tags']].iterrows():\n",
    "        raw_ytest2.append(set([x for x in row['tags']]))\n",
    "\n",
    "    t0 = time()\n",
    "    print('Encoding labels...')\n",
    "    mlb = MultiLabelBinarizer()\n",
    "    y_train = mlb.fit_transform(raw_ytrain)\n",
    "    y_test = mlb.transform(raw_ytest)\n",
    "\n",
    "    print('Vectorizing text...')\n",
    "    vectorizer = TfidfVectorizer()\n",
    "\n",
    "    X_train = vectorizer.fit_transform(q_train['text'])\n",
    "    X_test = vectorizer.transform(q_test['text'])\n",
    "    print(f'Encoding/vectorizing time: {time()-t0}')\n",
    "\n",
    "    t0 = time()\n",
    "    print(\"=\"*70)\n",
    "    print('Fitting model...')\n",
    "    sgd_log_clf = OneVsRestClassifier(SGDClassifier(loss='modified_huber', alpha=0.0001, penalty='l2'), n_jobs=-1)\n",
    "    sgd_log_clf.fit(X_train, y_train)\n",
    "    print('Generating predictions...')\n",
    "    predictions = sgd_log_clf.predict(X_test)\n",
    "    train_time = time() - t0\n",
    "    print(\"train time: %0.3fs\" % train_time)\n",
    "    \n",
    "    t0 = time()\n",
    "    print('Scoring model (hamming)...')\n",
    "    hls = hamming_loss(y_test,predictions)\n",
    "    print('Scoring model (top 20 scoring)...')\n",
    "\n",
    "    y_pred = sgd_log_clf.predict_proba(X_test)\n",
    "    del sgd_log_clf\n",
    "    top20_scores = top20_score(y_pred, mlb, raw_ytest2, t_test['Tag'].unique())\n",
    "    score_time = time() - t0\n",
    "    print(\"Scoring time: %0.3fs\" % score_time)\n",
    "\n",
    "    grid_scores['samples'].append(200000)\n",
    "    grid_scores['n_top'].append(top)\n",
    "    grid_scores['avg_post_score'].append(top20_scores[0])\n",
    "    grid_scores['pct_tags_top_n'].append(top20_scores[1])\n",
    "    grid_scores['pct_model_tags_top_n'].append(top20_scores[2])\n",
    "    grid_scores['pct_perfect'].append(top20_scores[3])\n",
    "    grid_scores['hamming_loss'].append(hls)\n",
    "\n",
    "    all_post_scores = top20_scores[4]\n",
    "    \n",
    "    grid_df = pd.DataFrame(grid_scores)\n",
    "    display(grid_df)\n",
    "    \n",
    "    return grid_df, all_post_scores"
   ]
  },
  {
   "cell_type": "code",
   "execution_count": 25,
   "metadata": {},
   "outputs": [
    {
     "name": "stdout",
     "output_type": "stream",
     "text": [
      "Prepping 200000 samples for modelling\n",
      "# of posts in train set: 160000\n",
      "# of posts in test set: 40000\n",
      "======================================================================\n",
      "======================================================================\n",
      "Selecting top 2000 tags...\n",
      "# of posts in trimmed train set: 156115\n",
      "Encoding labels...\n",
      "Vectorizing text...\n",
      "Encoding/vectorizing time: 13.053021907806396\n",
      "======================================================================\n",
      "Fitting model...\n",
      "Generating predictions...\n",
      "train time: 272.061s\n",
      "Scoring model (hamming)...\n",
      "Scoring model (top 20 scoring)...\n",
      "Scoring time: 545.453s\n"
     ]
    },
    {
     "data": {
      "text/html": [
       "<div>\n",
       "<style scoped>\n",
       "    .dataframe tbody tr th:only-of-type {\n",
       "        vertical-align: middle;\n",
       "    }\n",
       "\n",
       "    .dataframe tbody tr th {\n",
       "        vertical-align: top;\n",
       "    }\n",
       "\n",
       "    .dataframe thead th {\n",
       "        text-align: right;\n",
       "    }\n",
       "</style>\n",
       "<table border=\"1\" class=\"dataframe\">\n",
       "  <thead>\n",
       "    <tr style=\"text-align: right;\">\n",
       "      <th></th>\n",
       "      <th>samples</th>\n",
       "      <th>n_top</th>\n",
       "      <th>avg_post_score</th>\n",
       "      <th>pct_tags_top_n</th>\n",
       "      <th>pct_model_tags_top_n</th>\n",
       "      <th>pct_perfect</th>\n",
       "      <th>hamming_loss</th>\n",
       "    </tr>\n",
       "  </thead>\n",
       "  <tbody>\n",
       "    <tr>\n",
       "      <th>0</th>\n",
       "      <td>200000</td>\n",
       "      <td>2000</td>\n",
       "      <td>0.75278</td>\n",
       "      <td>0.732901</td>\n",
       "      <td>0.887692</td>\n",
       "      <td>0.47155</td>\n",
       "      <td>0.000971</td>\n",
       "    </tr>\n",
       "  </tbody>\n",
       "</table>\n",
       "</div>"
      ],
      "text/plain": [
       "   samples  n_top  avg_post_score  pct_tags_top_n  pct_model_tags_top_n  \\\n",
       "0   200000   2000         0.75278        0.732901              0.887692   \n",
       "\n",
       "   pct_perfect  hamming_loss  \n",
       "0      0.47155      0.000971  "
      ]
     },
     "metadata": {},
     "output_type": "display_data"
    }
   ],
   "source": [
    "grid_df, all_post_scores = top20_model()"
   ]
  },
  {
   "cell_type": "code",
   "execution_count": 26,
   "metadata": {},
   "outputs": [
    {
     "data": {
      "image/png": "[encoded data removed]",
      "text/plain": [
       "<Figure size 864x576 with 1 Axes>"
      ]
     },
     "metadata": {},
     "output_type": "display_data"
    }
   ],
   "source": [
    "# Distribution of posts' top-20 prediction scores\n",
    "\n",
    "fig, ax = plt.subplots(figsize=(12,8))\n",
    "sns.histplot(x=sorted([str(round(x, 2)) for x in all_post_scores]))\n",
    "ax.set_xlabel(\"% of posts' tags in top 20\")\n",
    "ax.set_title(\"Distribution of Posts' Tag Scores\");"
   ]
  },
  {
   "cell_type": "code",
   "execution_count": 27,
   "metadata": {},
   "outputs": [],
   "source": [
    "q_test = qa_all[-40000:].copy()\n",
    "\n",
    "q_test['n_tags'] = q_test['tags'].apply(len)\n",
    "q_test['top20_score'] = all_post_scores"
   ]
  },
  {
   "cell_type": "code",
   "execution_count": 28,
   "metadata": {},
   "outputs": [
    {
     "data": {
      "text/html": [
       "<div>\n",
       "<style scoped>\n",
       "    .dataframe tbody tr th:only-of-type {\n",
       "        vertical-align: middle;\n",
       "    }\n",
       "\n",
       "    .dataframe tbody tr th {\n",
       "        vertical-align: top;\n",
       "    }\n",
       "\n",
       "    .dataframe thead th {\n",
       "        text-align: right;\n",
       "    }\n",
       "</style>\n",
       "<table border=\"1\" class=\"dataframe\">\n",
       "  <thead>\n",
       "    <tr style=\"text-align: right;\">\n",
       "      <th></th>\n",
       "      <th>top20_score</th>\n",
       "    </tr>\n",
       "    <tr>\n",
       "      <th>n_tags</th>\n",
       "      <th></th>\n",
       "    </tr>\n",
       "  </thead>\n",
       "  <tbody>\n",
       "    <tr>\n",
       "      <th>1</th>\n",
       "      <td>0.830083</td>\n",
       "    </tr>\n",
       "    <tr>\n",
       "      <th>2</th>\n",
       "      <td>0.794242</td>\n",
       "    </tr>\n",
       "    <tr>\n",
       "      <th>3</th>\n",
       "      <td>0.750632</td>\n",
       "    </tr>\n",
       "    <tr>\n",
       "      <th>4</th>\n",
       "      <td>0.710122</td>\n",
       "    </tr>\n",
       "    <tr>\n",
       "      <th>5</th>\n",
       "      <td>0.677290</td>\n",
       "    </tr>\n",
       "  </tbody>\n",
       "</table>\n",
       "</div>"
      ],
      "text/plain": [
       "        top20_score\n",
       "n_tags             \n",
       "1          0.830083\n",
       "2          0.794242\n",
       "3          0.750632\n",
       "4          0.710122\n",
       "5          0.677290"
      ]
     },
     "execution_count": 28,
     "metadata": {},
     "output_type": "execute_result"
    }
   ],
   "source": [
    "q_test[['tags','n_tags','top20_score']].groupby('n_tags').mean()"
   ]
  },
  {
   "cell_type": "code",
   "execution_count": 29,
   "metadata": {},
   "outputs": [
    {
     "data": {
      "image/png": "[encoded data removed]",
      "text/plain": [
       "<Figure size 864x576 with 1 Axes>"
      ]
     },
     "metadata": {},
     "output_type": "display_data"
    }
   ],
   "source": [
    "# Visualization of results - broken out by n_tags\n",
    "q_test['top20_str'] = q_test['top20_score'].map(lambda x: round(x, 2)).map(str)\n",
    "\n",
    "fig, ax = plt.subplots(figsize=(12,8))\n",
    "\n",
    "hue_order = sorted(q_test['top20_str'].unique(), reverse=False)\n",
    "sns.histplot(data=q_test, x='n_tags', hue='top20_str', hue_order=hue_order,\\\n",
    "             palette='vlag_r', multiple='stack', discrete=True)\n",
    "\n",
    "ax.set_xticks([1, 2, 3, 4, 5])\n",
    "ax.set_title('Top-20 Score distribution - by number of tags');"
   ]
  },
  {
   "cell_type": "code",
   "execution_count": null,
   "metadata": {},
   "outputs": [],
   "source": []
  },
  {
   "cell_type": "code",
   "execution_count": null,
   "metadata": {},
   "outputs": [],
   "source": []
  },
  {
   "cell_type": "markdown",
   "metadata": {},
   "source": [
    "![graph3](./images/tag_scores.png)"
   ]
  },
  {
   "cell_type": "code",
   "execution_count": null,
   "metadata": {},
   "outputs": [],
   "source": []
  },
  {
   "cell_type": "code",
   "execution_count": 30,
   "metadata": {},
   "outputs": [],
   "source": [
    "# here you run your code to model the data\n"
   ]
  },
  {
   "cell_type": "markdown",
   "metadata": {},
   "source": [
    "## Evaluation\n",
    "Evaluate how well your work solves the stated business problem.\n",
    "\n",
    "***\n",
    "Questions to consider:\n",
    "* How do you interpret the results?\n",
    "* How well does your model fit your data? How much better is this than your baseline model?\n",
    "* How confident are you that your results would generalize beyond the data you have?\n",
    "* How confident are you that this model would benefit the business if put into use?\n",
    "***"
   ]
  },
  {
   "cell_type": "markdown",
   "metadata": {},
   "source": [
    "## Conclusions\n",
    "\n",
    "***\n",
    "### Recommendations\n",
    "\n",
    "\n",
    "Questions to consider:\n",
    "* What would you recommend the business do as a result of this work?\n",
    "* What are some reasons why your analysis might not fully solve the business problem?\n",
    "* What else could you do in the future to improve this project?\n",
    "***"
   ]
  }
 ],
 "metadata": {
  "kernelspec": {
   "display_name": "Python 3",
   "language": "python",
   "name": "python3"
  },
  "language_info": {
   "codemirror_mode": {
    "name": "ipython",
    "version": 3
   },
   "file_extension": ".py",
   "mimetype": "text/x-python",
   "name": "python",
   "nbconvert_exporter": "python",
   "pygments_lexer": "ipython3",
   "version": "3.8.5"
  }
 },
 "nbformat": 4,
 "nbformat_minor": 4
}
